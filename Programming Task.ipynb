{
 "cells": [
  {
   "cell_type": "code",
   "execution_count": 1,
   "metadata": {},
   "outputs": [],
   "source": [
    "import pandas as pd\n",
    "import numpy as np\n",
    "import matplotlib\n",
    "from numpy import loadtxt\n",
    "import matplotlib.pyplot as plt"
   ]
  },
  {
   "cell_type": "code",
   "execution_count": 2,
   "metadata": {
    "scrolled": true
   },
   "outputs": [],
   "source": [
    "f = open('C:/Users/ydadmin/Desktop/Simprints/users.txt', 'r')\n",
    "\n",
    "users = f.read().split('\\n')\n",
    "\n",
    "users = users[:-1]\n",
    "\n",
    "d = {}\n",
    "for b in users:\n",
    "    i = b.split(': ')\n",
    "    d[i[0]] = i[1]\n",
    "\n",
    "d2 = {key: list(map(str, value.split(','))) for key, value in d.items()}    "
   ]
  },
  {
   "cell_type": "code",
   "execution_count": 3,
   "metadata": {
    "scrolled": true
   },
   "outputs": [],
   "source": [
    "areas = pd.read_csv('C:/Users/ydadmin/Desktop/Simprints/areas.csv')\n",
    "areas['Area'] = [a.lower() for a in areas['Area']]\n",
    "\n",
    "visits = pd.read_csv('C:/Users/ydadmin/Desktop/Simprints/visits.csv')\n",
    "visits['Type'] = [t.lower() for t in visits['Type']]\n",
    "\n",
    "# areas['Area'].value_counts()"
   ]
  },
  {
   "cell_type": "code",
   "execution_count": 4,
   "metadata": {
    "scrolled": true
   },
   "outputs": [],
   "source": [
    "dist_user = []\n",
    "\n",
    "for b in areas['Beneficiary']:\n",
    "    dist_user.append([user for user, beneficiary in d2.items() if b in beneficiary])\n",
    "\n",
    "for d in range(len(dist_user)):\n",
    "    dist_user[d] = str(dist_user[d][0])\n",
    "areas['User'] = dist_user"
   ]
  },
  {
   "cell_type": "code",
   "execution_count": 5,
   "metadata": {
    "scrolled": true
   },
   "outputs": [],
   "source": [
    "new = areas.drop(['Beneficiary'], axis=1)\n",
    "new.drop_duplicates(inplace=True)"
   ]
  },
  {
   "cell_type": "markdown",
   "metadata": {},
   "source": [
    "## (A) Coverage of Users per District\n",
    "\n",
    "This gives the amouont of Users per District. A high number means that District has access to more Users, meaning they can possibly recieve better care.\n",
    "\n",
    "Found by dividing **total number of users per district** by **total number of beneficiaries per district.**\n",
    "\n",
    "According to this metric, Districts **18, 3, and 15** have lesser access to Users than the rest."
   ]
  },
  {
   "cell_type": "code",
   "execution_count": 11,
   "metadata": {},
   "outputs": [
    {
     "data": {
      "text/plain": [
       "<matplotlib.axes._subplots.AxesSubplot at 0x1f666385358>"
      ]
     },
     "execution_count": 11,
     "metadata": {},
     "output_type": "execute_result"
    },
    {
     "data": {
      "image/png": "[encoded data removed]",
      "text/plain": [
       "<Figure size 432x288 with 1 Axes>"
      ]
     },
     "metadata": {},
     "output_type": "display_data"
    }
   ],
   "source": [
    "ratio = pd.DataFrame(new['Area'].value_counts())\n",
    "ratio['Population'] = areas['Area'].value_counts()\n",
    "ratio['Coverage'] = ratio['Area'] / ratio['Population']\n",
    "ratio.sort_values(['Coverage'], inplace=True, ascending=False)\n",
    "ratio['Coverage'].plot(kind='bar')"
   ]
  },
  {
   "cell_type": "code",
   "execution_count": 7,
   "metadata": {
    "scrolled": false
   },
   "outputs": [],
   "source": [
    "df = pd.merge(areas, visits, on=['Beneficiary'])"
   ]
  },
  {
   "cell_type": "markdown",
   "metadata": {},
   "source": [
    "## (A) Healthcare Received per District\n",
    "\n",
    "This shows how many times a Beneficiary was visites by a User per District. Higher amount shows that the Beneficiaries in that disctrict have better access to healthcare.\n",
    "\n",
    "Found by dividing **total number of visits per user** (home and clinic) by **total number of beneficiaries per district.**\n",
    "\n",
    "According to this metric, Districts **14, 5, 3, 18, 3 and 15** are not recieving sufficient amounts of healthcare."
   ]
  },
  {
   "cell_type": "code",
   "execution_count": 8,
   "metadata": {},
   "outputs": [
    {
     "data": {
      "text/plain": [
       "<matplotlib.axes._subplots.AxesSubplot at 0x1f6661f17f0>"
      ]
     },
     "execution_count": 8,
     "metadata": {},
     "output_type": "execute_result"
    },
    {
     "data": {
      "image/png": "[encoded data removed]",
      "text/plain": [
       "<Figure size 432x288 with 1 Axes>"
      ]
     },
     "metadata": {},
     "output_type": "display_data"
    }
   ],
   "source": [
    "total = pd.DataFrame(df.groupby(['Area'])['User'].value_counts())\n",
    "total.groupby(['Area'])['User'].sum()\n",
    "\n",
    "ratio['Visits'] = total.groupby(['Area'])['User'].sum()\n",
    "ratio['Care'] = ratio['Visits'] / ratio['Population']\n",
    "ratio['Care'].plot(kind='bar')"
   ]
  },
  {
   "cell_type": "markdown",
   "metadata": {},
   "source": [
    "## (B) Each User's Visit Amount per Beneficiary\n",
    "\n",
    "Found by dividing **total number of visits per user** (home and clinic) by **total number of beneficiaries per user**\n",
    "\n",
    "According to this metric, Users **7, 13, 25, 12, 18, 24** are overperforming whereas **15, 6, 19, and 23** are underperforming"
   ]
  },
  {
   "cell_type": "code",
   "execution_count": 9,
   "metadata": {
    "scrolled": false
   },
   "outputs": [
    {
     "data": {
      "text/plain": [
       "<matplotlib.axes._subplots.AxesSubplot at 0x1f6662ac278>"
      ]
     },
     "execution_count": 9,
     "metadata": {},
     "output_type": "execute_result"
    },
    {
     "data": {
      "image/png": "[encoded data removed]",
      "text/plain": [
       "<Figure size 432x288 with 1 Axes>"
      ]
     },
     "metadata": {},
     "output_type": "display_data"
    }
   ],
   "source": [
    "visit_per_patient= df['User'].value_counts() / areas['User'].value_counts()\n",
    "visit_per_patient.sort_values(ascending=False).plot(kind='bar')"
   ]
  }
 ],
 "metadata": {
  "kernelspec": {
   "display_name": "Python 3",
   "language": "python",
   "name": "python3"
  },
  "language_info": {
   "codemirror_mode": {
    "name": "ipython",
    "version": 3
   },
   "file_extension": ".py",
   "mimetype": "text/x-python",
   "name": "python",
   "nbconvert_exporter": "python",
   "pygments_lexer": "ipython3",
   "version": "3.6.5"
  }
 },
 "nbformat": 4,
 "nbformat_minor": 2
}
